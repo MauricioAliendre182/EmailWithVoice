{
  "nbformat": 4,
  "nbformat_minor": 0,
  "metadata": {
    "colab": {
      "name": "LinearRegressionALgorithm.ipynb",
      "provenance": [],
      "authorship_tag": "ABX9TyNr8mSOXR1677QLbn8V1/oC",
      "include_colab_link": true
    },
    "kernelspec": {
      "name": "python3",
      "display_name": "Python 3"
    },
    "language_info": {
      "name": "python"
    }
  },
  "cells": [
    {
      "cell_type": "markdown",
      "metadata": {
        "id": "view-in-github",
        "colab_type": "text"
      },
      "source": [
        "<a href=\"https://colab.research.google.com/github/MauricioAliendre182/EmailWithVoice/blob/OtherChange/LinearRegressionALgorithm.ipynb\" target=\"_parent\"><img src=\"https://colab.research.google.com/assets/colab-badge.svg\" alt=\"Open In Colab\"/></a>"
      ]
    },
    {
      "cell_type": "code",
      "metadata": {
        "id": "sXUHWhRIX3CF"
      },
      "source": [
        "import numpy as np\n",
        "import matplotlib.pyplot as plt"
      ],
      "execution_count": 1,
      "outputs": []
    },
    {
      "cell_type": "code",
      "metadata": {
        "id": "ggbRFU21YTIG"
      },
      "source": [
        "def estimate_b0_b1(x, y):\n",
        "  n = np.size(x)\n",
        "  # Obtenemos los promedios de X y de Y\n",
        "  m_x, m_y = np.mean(x), np.mean(y)\n",
        "\n",
        "  # Calcular la sumatoria de XY y mi sumatoria de XX\n",
        "  Sumatoria_xy = np.sum((x-m_x)*(y-m_y))\n",
        "  Sumatoria_xx = np.sum((x-m_x)**2)\n",
        "\n",
        "  # Coeficientes de regresion\n",
        "  b_1 = Sumatoria_xy / Sumatoria_xx\n",
        "  b_0 = m_y - b_1*m_x\n",
        "\n",
        "  return (b_0, b_1)\n"
      ],
      "execution_count": 2,
      "outputs": []
    },
    {
      "cell_type": "code",
      "metadata": {
        "id": "guI3nue4bLlK"
      },
      "source": [
        "# Funcion de graficado\n",
        "def plot_regression(x, y, b):\n",
        "  plt.scatter(x, y, color = 'b', marker = 'o', s=30)\n",
        "\n",
        "  y_pred = b[0] + b[1]*x\n",
        "  plt.plot(x, y_pred, color='g')\n",
        "\n",
        "  # Etiquetado\n",
        "  plt.xlabel('x-Independiente')\n",
        "  plt.ylabel('y-Dependiente')\n",
        "\n",
        "  plt.show()"
      ],
      "execution_count": 3,
      "outputs": []
    },
    {
      "cell_type": "code",
      "metadata": {
        "colab": {
          "base_uri": "https://localhost:8080/",
          "height": 297
        },
        "id": "guyVVodrfcJr",
        "outputId": "9098536c-ca06-40b0-860a-7b81b094beb8"
      },
      "source": [
        "# Codigo MAIN\n",
        "def main():\n",
        "  # DATASET\n",
        "  x = np.array([1, 2, 3, 4, 5])\n",
        "  y = np.array([2, 3, 5, 6, 5])\n",
        "\n",
        "  # Obtenemos b1 y b2\n",
        "  b = estimate_b0_b1(x, y)\n",
        "  print(f'Los valores b0 = {b[0]}, b1 = {b[1]}')\n",
        "\n",
        "  # Graficamos nuestra linea de regresion\n",
        "  plot_regression(x, y, b)\n",
        "\n",
        "if __name__ == \"__main__\":\n",
        "  main()"
      ],
      "execution_count": 4,
      "outputs": [
        {
          "output_type": "stream",
          "text": [
            "Los valores b0 = 1.5, b1 = 0.9\n"
          ],
          "name": "stdout"
        },
        {
          "output_type": "display_data",
          "data": {
            "image/png": "[encoded data removed]",
            "text/plain": [
              "<Figure size 432x288 with 1 Axes>"
            ]
          },
          "metadata": {
            "needs_background": "light"
          }
        }
      ]
    },
    {
      "cell_type": "code",
      "metadata": {
        "colab": {
          "base_uri": "https://localhost:8080/",
          "height": 283
        },
        "id": "T9fYP974hDEZ",
        "outputId": "e08c1900-e445-45ef-e01d-f5690f46c2f8"
      },
      "source": [
        "# Another way to do\n",
        "# Reference: https://numpy.org/doc/stable/reference/generated/numpy.linalg.lstsq.html\n",
        "import numpy as np\n",
        "import matplotlib.pyplot as plt\n",
        "\n",
        "x = np.array([1,2,3,4,5])\n",
        "y = np.array([2,3,5,6,5])\n",
        "\n",
        "#creamos una matriz al reescribir la ecuacion y=b0+b1x , como y = Ap donde A = [[x] , p = [[b1], [b0]]:\n",
        "\n",
        "A = np.vstack([x, np.ones(len(x))]).T\n",
        "\n",
        "#aplicamos el metodo de minimos cuadrados de numpy:\n",
        "\n",
        "b1, b0 = np.linalg.lstsq(A, y, rcond=None)[0]\n",
        "\n",
        "_ = plt.plot(x, y, 'o', label='Original data', markersize=10)\n",
        "_ = plt.plot(x, b1*x + b0, 'r', label='Fitted line')\n",
        "_ = plt.legend()\n",
        "print(\"Los valores b0 = {}, b1 ={}\".format(b0, b1))\n",
        "plt.show()"
      ],
      "execution_count": 11,
      "outputs": [
        {
          "output_type": "stream",
          "text": [
            "Los valores b0 = 1.5000000000000009, b1 =0.9\n"
          ],
          "name": "stdout"
        },
        {
          "output_type": "display_data",
          "data": {
            "image/png": "[encoded data removed]",
            "text/plain": [
              "<Figure size 432x288 with 1 Axes>"
            ]
          },
          "metadata": {
            "needs_background": "light"
          }
        }
      ]
    },
    {
      "cell_type": "code",
      "metadata": {
        "colab": {
          "base_uri": "https://localhost:8080/"
        },
        "id": "fNLmQ7rjhvMQ",
        "outputId": "9c7b9782-dbae-4f15-cfce-3aa31c45f4a6"
      },
      "source": [
        "A"
      ],
      "execution_count": 7,
      "outputs": [
        {
          "output_type": "execute_result",
          "data": {
            "text/plain": [
              "array([[1., 1.],\n",
              "       [2., 1.],\n",
              "       [3., 1.],\n",
              "       [4., 1.],\n",
              "       [5., 1.]])"
            ]
          },
          "metadata": {},
          "execution_count": 7
        }
      ]
    },
    {
      "cell_type": "code",
      "metadata": {
        "colab": {
          "base_uri": "https://localhost:8080/"
        },
        "id": "5ezJi7dbhwdG",
        "outputId": "caad5ebd-67e9-4556-d3a0-5a7cdaa78416"
      },
      "source": [
        "y"
      ],
      "execution_count": 10,
      "outputs": [
        {
          "output_type": "execute_result",
          "data": {
            "text/plain": [
              "array([2, 3, 5, 6, 5])"
            ]
          },
          "metadata": {},
          "execution_count": 10
        }
      ]
    }
  ]
}